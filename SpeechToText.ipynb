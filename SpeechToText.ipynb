{
 "cells": [
  {
   "cell_type": "markdown",
   "metadata": {},
   "source": [
    "### 0. Install and Import Dependencies"
   ]
  },
  {
   "cell_type": "code",
   "execution_count": 1,
   "metadata": {},
   "outputs": [],
   "source": [
    "from ibm_watson import SpeechToTextV1\n",
    "from ibm_cloud_sdk_core.authenticators import IAMAuthenticator"
   ]
  },
  {
   "cell_type": "markdown",
   "metadata": {},
   "source": [
    "### 1. Setup STT Services"
   ]
  },
  {
   "cell_type": "code",
   "execution_count": 3,
   "metadata": {},
   "outputs": [],
   "source": [
    "apiKey = \"AWQ4yAQtA5Bo30-5aI7DqTS9lrSE0tJn5thp62eMvCdU\"\n",
    "url = \"https://api.au-syd.speech-to-text.watson.cloud.ibm.com/instances/0a519afe-a713-4d67-bf3b-df8e0d3a7214\""
   ]
  },
  {
   "cell_type": "code",
   "execution_count": 4,
   "metadata": {},
   "outputs": [],
   "source": [
    "# SetUp service\n",
    "authenticator = IAMAuthenticator(apiKey)\n",
    "stt = SpeechToTextV1(authenticator=authenticator)\n",
    "stt.set_service_url(url)"
   ]
  },
  {
   "cell_type": "markdown",
   "metadata": {},
   "source": [
    "### 2. Open Audio Source and Convert"
   ]
  },
  {
   "cell_type": "code",
   "execution_count": 17,
   "metadata": {},
   "outputs": [],
   "source": [
    "with open(\"./IhaveADream.mp3\", \"rb\") as audio:\n",
    "    result = stt.recognize(\n",
    "        audio=audio,  # Correct variable name\n",
    "        content_type=\"audio/mp3\",\n",
    "        model=\"en-US_NarrowbandModel\",  # Correct parameter name\n",
    "    ).get_result()\n"
   ]
  },
  {
   "cell_type": "code",
   "execution_count": 18,
   "metadata": {},
   "outputs": [
    {
     "data": {
      "text/plain": [
       "{'result_index': 0,\n",
       " 'results': [{'final': True,\n",
       "   'alternatives': [{'transcript': 'I am happy to join with you today in what will go down in history as the greatest demonstration for freedom in the history of our nation dot five score years ago a great American in whose symbolic shadow we stand today signed the Emancipation Proclamation this momentous decree came as a great beacon light of hope to millions of Negro slaves who had been seared in the flames of withering injustice it came as a joyous daybreak to end the long night of their captivity ',\n",
       "     'confidence': 0.99}]}]}"
      ]
     },
     "execution_count": 18,
     "metadata": {},
     "output_type": "execute_result"
    }
   ],
   "source": [
    "result"
   ]
  },
  {
   "cell_type": "code",
   "execution_count": 22,
   "metadata": {},
   "outputs": [
    {
     "data": {
      "text/plain": [
       "'I am happy to join with you today in what will go down in history as the greatest demonstration for freedom in the history of our nation dot five score years ago a great American in whose symbolic shadow we stand today signed the Emancipation Proclamation this momentous decree came as a great beacon light of hope to millions of Negro slaves who had been seared in the flames of withering injustice it came as a joyous daybreak to end the long night of their captivity '"
      ]
     },
     "execution_count": 22,
     "metadata": {},
     "output_type": "execute_result"
    }
   ],
   "source": [
    "text = result['results'][0][\"alternatives\"][0]['transcript']"
   ]
  }
 ],
 "metadata": {
  "kernelspec": {
   "display_name": "base",
   "language": "python",
   "name": "python3"
  },
  "language_info": {
   "codemirror_mode": {
    "name": "ipython",
    "version": 3
   },
   "file_extension": ".py",
   "mimetype": "text/x-python",
   "name": "python",
   "nbconvert_exporter": "python",
   "pygments_lexer": "ipython3",
   "version": "3.12.4"
  }
 },
 "nbformat": 4,
 "nbformat_minor": 2
}
