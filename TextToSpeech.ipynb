{
 "cells": [
  {
   "cell_type": "markdown",
   "metadata": {},
   "source": [
    "### 1. Authenticate"
   ]
  },
  {
   "cell_type": "markdown",
   "metadata": {},
   "source": [
    "### 0. Install Dependencies"
   ]
  },
  {
   "cell_type": "code",
   "execution_count": 1,
   "metadata": {},
   "outputs": [],
   "source": [
    "url = \"https://api.au-syd.text-to-speech.watson.cloud.ibm.com/instances/22f43eee-c62a-4097-94c0-055b2f138966\"\n",
    "apiKey = \"u1GTKFs0QIyYbW85sh3Ick-UoH43R0gUQ_-ITvEKtzeG\""
   ]
  },
  {
   "cell_type": "code",
   "execution_count": 2,
   "metadata": {},
   "outputs": [],
   "source": [
    "from ibm_watson import TextToSpeechV1\n",
    "from ibm_cloud_sdk_core.authenticators import IAMAuthenticator"
   ]
  },
  {
   "cell_type": "code",
   "execution_count": 3,
   "metadata": {},
   "outputs": [],
   "source": [
    "# Setup Service \n",
    "authenticator = IAMAuthenticator(apiKey)\n",
    "\n",
    "# New TTS Service\n",
    "tts = TextToSpeechV1(authenticator=authenticator)\n",
    "\n",
    "# Set Service URL\n",
    "tts.set_service_url(url)"
   ]
  },
  {
   "cell_type": "markdown",
   "metadata": {},
   "source": [
    "### 2. Convert a String"
   ]
  },
  {
   "cell_type": "code",
   "execution_count": 4,
   "metadata": {},
   "outputs": [],
   "source": [
    "with open (\"./speech.mp3\", 'wb') as audio_file:\n",
    "    res = tts.synthesize(\"Hello World!\", accept=\"audio/mp3\", voice=\"en-US_MichaelV3Voice\").get_result()\n",
    "    audio_file.write(res.content)"
   ]
  },
  {
   "cell_type": "markdown",
   "metadata": {},
   "source": [
    "### 3.Convert a file"
   ]
  },
  {
   "cell_type": "code",
   "execution_count": 5,
   "metadata": {},
   "outputs": [
    {
     "data": {
      "text/plain": [
       "['I am happy to join with you today in what will go \\n',\n",
       " 'down in history as the greatest demonstration for freedom in the history of our nation.\\n',\n",
       " 'Five score years ago, a great American, in whose symbolic shadow we stand today, \\n',\n",
       " 'signed the Emancipation Proclamation. This momentous decree came as a great beacon \\n',\n",
       " 'ight of hope to millions of Negro slaves who had been seared in the flames of withering injustice. \\n',\n",
       " 'It came as a joyous daybreak to end the long night of their captivity.']"
      ]
     },
     "execution_count": 5,
     "metadata": {},
     "output_type": "execute_result"
    }
   ],
   "source": [
    "with open(\"./speech.txt\", 'r') as file:\n",
    "    text = file.readlines()\n",
    "\n",
    "text"
   ]
  },
  {
   "cell_type": "code",
   "execution_count": 6,
   "metadata": {},
   "outputs": [],
   "source": [
    "text = [line.replace(\"\\n\", \"\") for line in text]\n"
   ]
  },
  {
   "cell_type": "code",
   "execution_count": 7,
   "metadata": {},
   "outputs": [],
   "source": [
    "text = ''.join(str(line) for line in text)\n"
   ]
  },
  {
   "cell_type": "code",
   "execution_count": 8,
   "metadata": {},
   "outputs": [],
   "source": [
    "with open (\"./IHaveADream.mp3\", 'wb') as audio_file:\n",
    "    res = tts.synthesize(text, accept=\"audio/mp3\", voice=\"en-US_MichaelV3Voice\").get_result()\n",
    "    audio_file.write(res.content)"
   ]
  },
  {
   "cell_type": "markdown",
   "metadata": {},
   "source": [
    "### 4. Using New Language Models"
   ]
  },
  {
   "cell_type": "code",
   "execution_count": 9,
   "metadata": {},
   "outputs": [],
   "source": [
    "with open (\"./IHaveADreamSpanish.mp3\", 'wb') as audio_file:\n",
    "    res = tts.synthesize(text, accept=\"audio/mp3\", voice=\"es-LA_DanielaExpressive\").get_result()\n",
    "    audio_file.write(res.content)"
   ]
  }
 ],
 "metadata": {
  "kernelspec": {
   "display_name": "base",
   "language": "python",
   "name": "python3"
  },
  "language_info": {
   "codemirror_mode": {
    "name": "ipython",
    "version": 3
   },
   "file_extension": ".py",
   "mimetype": "text/x-python",
   "name": "python",
   "nbconvert_exporter": "python",
   "pygments_lexer": "ipython3",
   "version": "3.12.4"
  }
 },
 "nbformat": 4,
 "nbformat_minor": 2
}
